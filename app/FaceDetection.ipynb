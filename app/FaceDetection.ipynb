{
 "cells": [
  {
   "cell_type": "markdown",
   "id": "b29c89cc-ccc2-4294-8198-f58e7ab39e96",
   "metadata": {},
   "source": [
    "Plan\n",
    "\n",
    "1. Access dataset(paths)\n",
    "2. view samples images\n",
    "3. data split(make a test from the validation set )\n",
    "4. PreProcessing "
   ]
  },
  {
   "cell_type": "markdown",
   "id": "875391b8-bef3-4233-8919-50c22856b007",
   "metadata": {},
   "source": [
    "# Imports "
   ]
  },
  {
   "cell_type": "code",
   "execution_count": 14,
   "id": "34c55e32-2066-48ef-bdc4-ad3df4479623",
   "metadata": {},
   "outputs": [],
   "source": [
    "import pandas as pd \n",
    "import os \n",
    "import random\n",
    "from PIL import Image\n",
    "import matplotlib.pyplot as plt\n",
    "from IPython.display import display, Image as IPyImage\n",
    "import splitfolders\n",
    "import shutil  \n",
    "\n",
    "\n",
    "\n",
    "\n"
   ]
  },
  {
   "cell_type": "markdown",
   "id": "6b8b8535-4889-4c1a-9b1d-d009cf2a2c75",
   "metadata": {},
   "source": [
    "# Accessing dataset"
   ]
  },
  {
   "cell_type": "code",
   "execution_count": 15,
   "id": "34a531ec-d56f-45d4-b9f4-263323cba265",
   "metadata": {},
   "outputs": [],
   "source": [
    "# Path to the dataset\n",
    "\n",
    "train_path = \"fd_dataset/train\"\n",
    "val_path = \"fd_dataset/val\"\n",
    "\n",
    "\n",
    "\n",
    "#checking size of folders\n",
    "def count_root_files(root_dir):\n",
    "    return len([\n",
    "        f for f in os.listdir(root_dir)\n",
    "        if os.path.isfile(os.path.join(root_dir, f))\n",
    "    ])\n",
    "\n",
    "# Count the files\n",
    "train_count = count_root_files(train_path)\n",
    "val_count = count_root_files(val_path)\n",
    "\n",
    "\n",
    "\n",
    "# Print the results\n",
    "#print(f\"Total files directly in '{train_path}': {train_count}\")\n",
    "#print(f\"Total files directly in '{val_path}': {val_count}\")\n"
   ]
  },
  {
   "cell_type": "markdown",
   "id": "d3b50ce8-78f4-42fc-a678-db8603e85042",
   "metadata": {},
   "source": [
    "# Viewing images "
   ]
  },
  {
   "cell_type": "code",
   "execution_count": 19,
   "id": "26d5821e-215b-4416-992d-6d7f668f34a4",
   "metadata": {},
   "outputs": [
    {
     "ename": "AttributeError",
     "evalue": "'list' object has no attribute 'resize'",
     "output_type": "error",
     "traceback": [
      "\u001b[31m---------------------------------------------------------------------------\u001b[39m",
      "\u001b[31mAttributeError\u001b[39m                            Traceback (most recent call last)",
      "\u001b[36mCell\u001b[39m\u001b[36m \u001b[39m\u001b[32mIn[19]\u001b[39m\u001b[32m, line 5\u001b[39m\n\u001b[32m      3\u001b[39m \u001b[38;5;66;03m# Select random images\u001b[39;00m\n\u001b[32m      4\u001b[39m random_images = random.sample(image_files, \u001b[32m2\u001b[39m)\n\u001b[32m----> \u001b[39m\u001b[32m5\u001b[39m random_images = \u001b[43mrandom_images\u001b[49m\u001b[43m.\u001b[49m\u001b[43mresize\u001b[49m((\u001b[32m160\u001b[39m,\u001b[32m160\u001b[39m))\n\u001b[32m      7\u001b[39m \u001b[38;5;66;03m# Display the images \u001b[39;00m\n\u001b[32m      8\u001b[39m \u001b[38;5;28;01mfor\u001b[39;00m img_file \u001b[38;5;129;01min\u001b[39;00m random_images:\n",
      "\u001b[31mAttributeError\u001b[39m: 'list' object has no attribute 'resize'"
     ]
    }
   ],
   "source": [
    "\n",
    "image_files = os.listdir(train_path)\n",
    "\n",
    "# Select random images\n",
    "random_images = random.sample(image_files, 2)\n",
    "random_images = random_images.resize((160,160))\n",
    "\n",
    "# Display the images \n",
    "for img_file in random_images:\n",
    "    display(IPyImage(filename=os.path.join(train_path, img_file)))\n"
   ]
  },
  {
   "cell_type": "markdown",
   "id": "ce28192c-95e0-4ca3-9ecd-50a9c4a2055f",
   "metadata": {},
   "source": [
    "# Data Splitting"
   ]
  },
  {
   "cell_type": "code",
   "execution_count": 18,
   "id": "384d6324-590b-43ff-bc1c-efcb855a6c7e",
   "metadata": {},
   "outputs": [
    {
     "name": "stdout",
     "output_type": "stream",
     "text": [
      "Total files directly in 'fd_dataset/test': 2007\n",
      "Total files directly in 'fd_dataset/train': 11379\n"
     ]
    }
   ],
   "source": [
    "\n",
    "test_path = \"fd_dataset/test\"    \n",
    "\n",
    "os.makedirs(test, exist_ok=True)  \n",
    "\n",
    "files = os.listdir(train_path)  \n",
    "\n",
    "\n",
    "for f in random.sample(files, int(len(files) * 0.15)):\n",
    "    shutil.move(os.path.join(train_path, f), os.path.join(test_path, f))  \n",
    "\n",
    "print(\"15% of files moved from train to test.\")  \n",
    "\n",
    "test_count = count_root_files(test_path)\n",
    "print(f\"Total files directly in '{test_path}': {test_count}\")\n",
    "print(f\"Total files directly in '{train_path}': {train_count}\")\n",
    "\n"
   ]
  },
  {
   "cell_type": "markdown",
   "id": "5d8ce7ab-a03a-4e18-9318-836982089743",
   "metadata": {},
   "source": [
    "# Pre-Proceessing"
   ]
  },
  {
   "cell_type": "code",
   "execution_count": null,
   "id": "46736783-09ab-442b-b0ad-c1792e27b661",
   "metadata": {},
   "outputs": [],
   "source": []
  }
 ],
 "metadata": {
  "kernelspec": {
   "display_name": "Python 3 (ipykernel)",
   "language": "python",
   "name": "python3"
  },
  "language_info": {
   "codemirror_mode": {
    "name": "ipython",
    "version": 3
   },
   "file_extension": ".py",
   "mimetype": "text/x-python",
   "name": "python",
   "nbconvert_exporter": "python",
   "pygments_lexer": "ipython3",
   "version": "3.11.13"
  }
 },
 "nbformat": 4,
 "nbformat_minor": 5
}
